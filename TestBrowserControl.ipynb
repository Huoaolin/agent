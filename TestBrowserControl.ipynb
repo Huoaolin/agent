{
 "cells": [
  {
   "cell_type": "code",
   "execution_count": 5,
   "id": "94e06c1b-3b0e-430f-a972-7dd48d6c8ebc",
   "metadata": {
    "tags": []
   },
   "outputs": [
    {
     "name": "stdout",
     "output_type": "stream",
     "text": [
      "初始输入: 蔚来ET5的图片\n",
      "浏览器初始化成功\n",
      "****意图分析****\n",
      "intent image\n",
      "****意图分析****\n",
      "****分解出的任务步骤****\n",
      "tasks [{'action': 'open_page', 'value': 'https://image.baidu.com', 'type': None, 'sub_goal': 'access image search engine'}, {'action': 'search', 'value': '蔚来ET5 图片', 'type': None, 'sub_goal': 'search for images'}, {'action': 'extract_image', 'value': '蔚来ET5的图片', 'type': 'image', 'sub_goal': 'extract target image'}]\n",
      "****分解出的任务步骤****\n",
      "--------------------------------\n",
      "--------------------------------\n",
      "当前尝试次数: 1/2\n",
      "***当前任务： {'action': 'open_page', 'value': 'https://image.baidu.com', 'type': None, 'sub_goal': 'access image search engine'}\n",
      "开始导航到: https://image.baidu.com\n",
      "***执行 open_page 完成，继续后续任务\n",
      "***当前状态: <!DOCTYPE html><html lang=\"\"><head><style class=\"ariareader ariareader--user-agent\" media=\"screen\" id=\"aria6rbkxuhjbhk\" data-for=\"result\" isaria=\"true\">.ariafocus{outline:none;}body.useOldFixed [aria-...\n",
      "--------------------------------\n",
      "--------------------------------\n",
      "当前尝试次数: 1/2\n",
      "***当前任务： {'action': 'search', 'value': '蔚来ET5 图片', 'type': None, 'sub_goal': 'search for images'}\n",
      "***执行 search 完成，继续后续任务\n",
      "***当前状态: <!DOCTYPE html><html><head><script type=\"text/javascript\" charset=\"gb2312\" src=\"//www.baidu.com/cache/aladdin/ui/dropdown21/dropdown21.js?v=20170208\" data-for=\"A.ui\"></script><script type=\"text/javasc...\n",
      "--------------------------------\n",
      "--------------------------------\n",
      "当前尝试次数: 1/2\n",
      "***当前任务： {'action': 'extract_image', 'value': '蔚来ET5的图片', 'type': 'image', 'sub_goal': 'extract target image'}\n",
      "***执行 extract_image 完成，继续后续任务\n",
      "***当前状态: {'query': '蔚来ET5的图片', 'images': [{'extracted': 'https://t8.baidu.com/it/u=1769367377,1675406116&fm=3031&app=3031&size=r3,4&q=100&n=0&g=11n&f=JPEG&fmt=auto&maxorilen2heic=2000000?s=2F92678444034EEE121C...\n",
      "***评估提取结果: satisfied=True\n",
      "***提取结果满足目标，无需进一步操作\n",
      "***最终目标评估: satisfied=True, next_tasks=[]\n",
      "***最终目标已满足，任务完成\n",
      "结果: [\"{'query': '蔚来ET5的图片', 'images': [{'extracted': 'https://t8.baidu.com/it/u=1769367377,1675406116&fm=3031&app=3031&size=r3,4&q=100&n=0&g=11n&f=JPEG&fmt=auto&maxorilen2heic=2000000?s=2F92678444034EEE121CB50B0300E0F1', 'title': '最美瓦罐蔚来et5t试驾体验报告挑战试驾蔚来ET5T新车系列 🚗外'}, {'extracted': 'https://t8.baidu.com/it/u=4257419760,3497415129&fm=3031&app=3031&size=r3,4&q=100&n=0&g=11n&f=JPEG&fmt=auto&maxorilen2heic=2000000?s=CB3803C5040352F20E95F055030020D1', 'title': '蔚来ET5提车记:颜值与性能双满分'}, {'extracted': 'https://t7.baidu.com/it/u=4043503412,3220880191&fm=3031&app=3031&size=r3,4&q=100&n=0&g=11n&f=JPEG&fmt=auto&maxorilen2heic=2000000?s=F9ABA3570D5650CC10CDC0C3030030B3', 'title': '女神节喜提一个大玩具et5t今年的三八节,我终于把心仪已久的蔚来开回'}]}\"]\n"
     ]
    }
   ],
   "source": [
    "# 单元 1：导入和设置\n",
    "import sys\n",
    "import os\n",
    "import asyncio\n",
    "import nest_asyncio\n",
    "sys.path.append(os.path.abspath(\"./BrowseControl/src\"))\n",
    "from BrowserControl.src.agent import Agent\n",
    "\n",
    "# 应用 nest_asyncio 来修复事件循环冲突\n",
    "nest_asyncio.apply()\n",
    "\n",
    "# 单元 2：定义异步测试函数\n",
    "async def test():\n",
    "    agent = Agent()\n",
    "    results = await agent.run(\"蔚来ET5的图片\")\n",
    "    print(\"结果:\", results)\n",
    "\n",
    "# 单元 3：运行异步函数\n",
    "asyncio.get_event_loop().run_until_complete(test())"
   ]
  },
  {
   "cell_type": "code",
   "execution_count": null,
   "id": "dda6df8a-5d13-464a-97ec-f488252468d3",
   "metadata": {},
   "outputs": [
    {
     "name": "stderr",
     "output_type": "stream",
     "text": [
      "\n",
      "KeyboardInterrupt\n",
      "\n"
     ]
    }
   ],
   "source": [
    "import requests\n",
    "from typing import Optional\n",
    "\n",
    "def call_api(user_input: str, job_id: Optional[str] = None) -> dict:\n",
    "    \"\"\"\n",
    "    调用 API 处理用户输入。\n",
    "    Args:\n",
    "        user_input (str): 用户输入内容\n",
    "        job_id (str, optional): 任务 ID，若未提供则由服务端生成\n",
    "    Returns:\n",
    "        dict: API 返回的结果\n",
    "    Raises:\n",
    "        requests.RequestException: 如果 API 调用失败\n",
    "    \"\"\"\n",
    "    url = \"http://0.0.0.0:8001/process\"\n",
    "    payload = {\"input\": user_input}\n",
    "    if job_id:\n",
    "        payload[\"jobID\"] = job_id   # 添加 jobID 到请求 payload\n",
    "\n",
    "    try:\n",
    "        response = requests.post(url, json=payload, timeout=30)  # 设置超时\n",
    "        response.raise_for_status()  # 检查状态码，非 2xx 会抛异常\n",
    "        result = response.json()\n",
    "        print(f\"输入: {user_input}\")\n",
    "        if job_id:\n",
    "            print(f\"任务 ID: {job_id}\")\n",
    "        print(f\"结果: {result}\")\n",
    "        return result\n",
    "    except requests.RequestException as e:\n",
    "        error_msg = f\"调用失败: {str(e)}\"\n",
    "        print(error_msg)\n",
    "        raise  # 抛出异常供上层处理\n",
    "\n",
    "\n",
    "if __name__ == \"__main__\":\n",
    "    user_inputs = [\n",
    "        (\"蔚来ET5的图片\", \"job_001\"),  # (输入, jobID) 元组形式\n",
    "        (\"特斯拉Model 3的图片\", None),  # 不提供 jobID\n",
    "    ]\n",
    "\n",
    "    for user_input, job_id in user_inputs:\n",
    "        try:\n",
    "            call_api(user_input, job_id)\n",
    "        except Exception as e:\n",
    "            print(f\"处理 '{user_input}' 时出错: {e}\")"
   ]
  },
  {
   "cell_type": "code",
   "execution_count": 2,
   "id": "b332a1ff-e211-4861-91f5-25bb96bd735a",
   "metadata": {
    "tags": []
   },
   "outputs": [
    {
     "name": "stdout",
     "output_type": "stream",
     "text": [
      "输入: 蔚来ET5的图片\n",
      "结果: {'status': 'success', 'input': '蔚来ET5的图片', 'jobID': 'Test0001', 'results': [\"{'query': '蔚来ET5的图片', 'images': [{'extracted': 'https://t8.baidu.com/it/u=1769367377,1675406116&fm=3031&app=3031&size=r3,4&q=100&n=0&g=11n&f=JPEG&fmt=auto&maxorilen2heic=2000000?s=2F92678444034EEE121CB50B0300E0F1', 'title': '最美瓦罐蔚来et5t试驾体验报告挑战试驾蔚来ET5T新车系列 🚗外'}, {'extracted': 'https://t7.baidu.com/it/u=1505047252,1227508960&fm=3031&app=3031&size=r1,1&q=100&n=0&g=11n&f=JPEG&fmt=auto&maxorilen2heic=2000000?s=D93821D54A4A12C60807C88F0300E0C3', 'title': '极氪001蔚来et5阿维塔12电动豪车界的顶流之战'}, {'extracted': 'https://t8.baidu.com/it/u=4257419760,3497415129&fm=3031&app=3031&size=r3,4&q=100&n=0&g=11n&f=JPEG&fmt=auto&maxorilen2heic=2000000?s=CB3803C5040352F20E95F055030020D1', 'title': '蔚来ET5提车记:颜值与性能双满分'}]}\"]}\n"
     ]
    }
   ],
   "source": [
    "import requests\n",
    "\n",
    "\n",
    "def call_api(user_input, job_id):\n",
    "    url = \"http://0.0.0.0:8001/process\"\n",
    "    payload = {\"input\": user_input,\n",
    "              \"jobID\": job_id\n",
    "              }\n",
    "    try:\n",
    "        response = requests.post(url, json=payload)\n",
    "        response.raise_for_status()  # 检查状态码\n",
    "        result = response.json()\n",
    "        print(f\"输入: {user_input}\")\n",
    "        print(f\"结果: {result}\")\n",
    "    except requests.RequestException as e:\n",
    "        print(f\"调用失败: {str(e)}\")\n",
    "\n",
    "\n",
    "if __name__ == \"__main__\":\n",
    "    user_inputs = [\n",
    "        \"蔚来ET5的图片\"\n",
    "    ]\n",
    "    job_id = \"Test0001\"\n",
    "    for user_input in user_inputs:\n",
    "        call_api(user_input, job_id)"
   ]
  },
  {
   "cell_type": "code",
   "execution_count": null,
   "id": "2dcad462-0ae1-49d4-9deb-fceb78690187",
   "metadata": {},
   "outputs": [],
   "source": []
  }
 ],
 "metadata": {
  "kernelspec": {
   "display_name": "cen",
   "language": "python",
   "name": "cen"
  },
  "language_info": {
   "codemirror_mode": {
    "name": "ipython",
    "version": 3
   },
   "file_extension": ".py",
   "mimetype": "text/x-python",
   "name": "python",
   "nbconvert_exporter": "python",
   "pygments_lexer": "ipython3",
   "version": "3.10.11"
  }
 },
 "nbformat": 4,
 "nbformat_minor": 5
}
