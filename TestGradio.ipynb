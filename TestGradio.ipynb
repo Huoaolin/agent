{
 "cells": [
  {
   "cell_type": "code",
   "execution_count": 1,
   "id": "240e6c17-a863-40af-9e5e-0b243c1a52b2",
   "metadata": {
    "tags": []
   },
   "outputs": [
    {
     "name": "stdout",
     "output_type": "stream",
     "text": [
      "['/home/qe/miniconda3/envs/cen/lib/python310.zip', '/home/qe/miniconda3/envs/cen/lib/python3.10', '/home/qe/miniconda3/envs/cen/lib/python3.10/lib-dynload', '', '/home/qe/.local/lib/python3.10/site-packages', '/home/qe/miniconda3/envs/cen/lib/python3.10/site-packages']\n"
     ]
    }
   ],
   "source": [
    "from gradio.scr.app import create_interface"
   ]
  },
  {
   "cell_type": "code",
   "execution_count": 2,
   "id": "3f7b5702-6fdc-48e3-a7d2-8f52fe830d9e",
   "metadata": {},
   "outputs": [
    {
     "ename": "AttributeError",
     "evalue": "module 'gradio' has no attribute '__version__'",
     "output_type": "error",
     "traceback": [
      "\u001b[0;31m---------------------------------------------------------------------------\u001b[0m",
      "\u001b[0;31mAttributeError\u001b[0m                            Traceback (most recent call last)",
      "Cell \u001b[0;32mIn[2], line 2\u001b[0m\n\u001b[1;32m      1\u001b[0m \u001b[38;5;28;01mimport\u001b[39;00m \u001b[38;5;21;01mgradio\u001b[39;00m \u001b[38;5;28;01mas\u001b[39;00m \u001b[38;5;21;01mgr\u001b[39;00m\n\u001b[0;32m----> 2\u001b[0m \u001b[38;5;28mprint\u001b[39m(\u001b[43mgr\u001b[49m\u001b[38;5;241;43m.\u001b[39;49m\u001b[43m__version__\u001b[49m)  \u001b[38;5;66;03m# 应该输出 4.1.1\u001b[39;00m\n\u001b[1;32m      3\u001b[0m \u001b[38;5;28;01mwith\u001b[39;00m gr\u001b[38;5;241m.\u001b[39mBlocks() \u001b[38;5;28;01mas\u001b[39;00m demo:\n\u001b[1;32m      4\u001b[0m     gr\u001b[38;5;241m.\u001b[39mTextbox(label\u001b[38;5;241m=\u001b[39m\u001b[38;5;124m\"\u001b[39m\u001b[38;5;124mTest\u001b[39m\u001b[38;5;124m\"\u001b[39m)\n",
      "\u001b[0;31mAttributeError\u001b[0m: module 'gradio' has no attribute '__version__'"
     ]
    }
   ],
   "source": [
    "import gradio as gr\n",
    "print(gr.__version__)  # 应该输出 4.1.1\n",
    "with gr.Blocks() as demo:\n",
    "    gr.Textbox(label=\"Test\")\n",
    "demo.launch()"
   ]
  },
  {
   "cell_type": "code",
   "execution_count": null,
   "id": "b772e28a-7ffe-4023-9f8d-6904592ecbdd",
   "metadata": {},
   "outputs": [],
   "source": []
  },
  {
   "cell_type": "code",
   "execution_count": 4,
   "id": "672bde28-2467-4f94-a0f5-aa16e4ba9374",
   "metadata": {
    "tags": []
   },
   "outputs": [
    {
     "data": {
      "text/plain": [
       "<module 'gradio' from '/qe/data/project/project_cen/project_cen/2025code/通用Agent/gradio/__init__.py'>"
      ]
     },
     "execution_count": 4,
     "metadata": {},
     "output_type": "execute_result"
    }
   ],
   "source": [
    ">>> import gradio\n",
    ">>> gradio\n"
   ]
  },
  {
   "cell_type": "code",
   "execution_count": null,
   "id": "16324a9f-2c15-47a2-962c-ef53045e7770",
   "metadata": {},
   "outputs": [],
   "source": []
  }
 ],
 "metadata": {
  "kernelspec": {
   "display_name": "cen",
   "language": "python",
   "name": "cen"
  },
  "language_info": {
   "codemirror_mode": {
    "name": "ipython",
    "version": 3
   },
   "file_extension": ".py",
   "mimetype": "text/x-python",
   "name": "python",
   "nbconvert_exporter": "python",
   "pygments_lexer": "ipython3",
   "version": "3.10.11"
  }
 },
 "nbformat": 4,
 "nbformat_minor": 5
}
