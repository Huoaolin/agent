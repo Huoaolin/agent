{
 "cells": [
  {
   "cell_type": "code",
   "execution_count": 3,
   "id": "5c097067-55f5-4c70-ab56-58065cb0ece2",
   "metadata": {
    "tags": []
   },
   "outputs": [
    {
     "data": {
      "text/plain": [
       "'\\n这里模拟一个场景，用来演示Ops运维场景问题\\n\\n**定制一个专门用于运维响应的Agent**\\n\\n1. 触发特定任务，特定任务在服务层判断存在固有ToDoList，（事先准备好的ToDoList）；\\n2. 调度层负责向各数据库发起请求，获取特定数据，并返回给服务层；\\n3. 服务层负责根据返回结果（在固定ToDoList完成后），判断进一步动作；\\n\\n具体来讲：\\n1. 用户输入Query或者系统传入告警信息：\"节点A0001网络不通\"；\\n2. 服务层根据告警信息在“预案列表”中查到了<网络节点网络不通的紧急预案>（这里的“预案列表”暂且保存的Prompt里）；\\n    <预案>就是一个固定ToDoList：\\n    [\\n        \"STEP1\":{\\n        \\n        }\\n        2: 查询当前网络相关网络；\\n        3: \\n    ]\\n3. \\n\\n'"
      ]
     },
     "execution_count": 3,
     "metadata": {},
     "output_type": "execute_result"
    }
   ],
   "source": [
    "\"\"\"\n",
    "这里模拟一个场景，用来演示Ops运维场景问题\n",
    "\n",
    "**定制一个专门用于运维响应的Agent**\n",
    "\n",
    "1. 触发特定任务，特定任务在服务层判断存在固有ToDoList，（事先准备好的ToDoList）；\n",
    "2. 调度层负责向各数据库发起请求，获取特定数据，并返回给服务层；\n",
    "3. 服务层负责根据返回结果（在固定ToDoList完成后），判断进一步动作；\n",
    "\n",
    "具体来讲：\n",
    "1. 用户输入Query或者系统传入告警信息：\"节点A0001网络不通\"；\n",
    "2. 服务层根据告警信息在“预案列表”中查到了<网络节点网络不通的紧急预案>（这里的“预案列表”暂且保存的Prompt里）；\n",
    "    <预案>就是一个固定ToDoList：\n",
    "    [\n",
    "        \"STEP1\":{\n",
    "            \"action\": \"查询目标节点距离3的节点,\n",
    "            \"ToolToUse\": \"ChatBI\",\n",
    "            \"Params\": \"\",\n",
    "        },\n",
    "        \"STEP2\":{\n",
    "            \"action\": \"根据STEP1的执行结果获取的节点名，依次查询这些节点的url信息\",\n",
    "            \"ToolToUse\": \"ChatBI\",\n",
    "            \"Params\": \"\",\n",
    "        },\n",
    "        \"STEP3\":{\n",
    "            \"action\": \"根据STPE2查询到的节点信息，依次向所有节点发起测试请求，返回响应结果\",\n",
    "            \"ToolToUse\": \"NetCall\",\n",
    "            \"Params\": \"\",\n",
    "        },\n",
    "        \"STEP4\":{\n",
    "            \"action\": \"根据距离3节点测试请求响应结果，进行处理\",\n",
    "            \"ToolToUse\": \"EmergencyScript\",\n",
    "            \"Params\": \"\",\n",
    "        },\n",
    "    ]\n",
    "\n",
    "    <拓扑表>结构如下：\n",
    "    节点ID\t距离1的节点ID\t距离2的节点ID\t距离3的节点ID\t本节点URL\n",
    "    A0001\tB0001\tC0001\tD0001\thttps://example.com/A0001\n",
    "    B0001\tA0001, C0001\tD0001\t-\thttps://example.com/B0001\n",
    "    C0001\tB0001, D0001\tA0001\t-\thttps://example.com/C0001\n",
    "    D0001\tC0001\tB0001\tA0001\thttps://example.com/D0001\n",
    "\n",
    "3. 依次执行步骤 STEP1 STEP2 STEP3 STEP4\n",
    "\"\"\""
   ]
  },
  {
   "cell_type": "code",
   "execution_count": null,
   "id": "4cad923a-ec8f-4bfd-825f-b81a9aae2c68",
   "metadata": {},
   "outputs": [],
   "source": []
  },
  {
   "cell_type": "code",
   "execution_count": null,
   "id": "564c3493-2bd8-469e-bf29-c4f22749fc4d",
   "metadata": {},
   "outputs": [],
   "source": []
  },
  {
   "cell_type": "code",
   "execution_count": null,
   "id": "2fc53507-3203-4c75-8022-1ed2f8521015",
   "metadata": {},
   "outputs": [],
   "source": []
  }
 ],
 "metadata": {
  "kernelspec": {
   "display_name": "cen",
   "language": "python",
   "name": "cen"
  },
  "language_info": {
   "codemirror_mode": {
    "name": "ipython",
    "version": 3
   },
   "file_extension": ".py",
   "mimetype": "text/x-python",
   "name": "python",
   "nbconvert_exporter": "python",
   "pygments_lexer": "ipython3",
   "version": "3.10.11"
  }
 },
 "nbformat": 4,
 "nbformat_minor": 5
}
