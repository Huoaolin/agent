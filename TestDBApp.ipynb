{
 "cells": [
  {
   "cell_type": "code",
   "execution_count": 1,
   "id": "94878e59-aed5-4687-be36-4944eb53aeaa",
   "metadata": {
    "tags": []
   },
   "outputs": [
    {
     "name": "stdout",
     "output_type": "stream",
     "text": [
      "Connected to Elasticsearch: {'name': 'b94020e29ad8', 'cluster_name': 'docker-cluster', 'cluster_uuid': '9KKN5ZsUTtyRl9hUzdXFOQ', 'version': {'number': '8.17.0', 'build_flavor': 'default', 'build_type': 'docker', 'build_hash': '2b6a7fed44faa321997703718f07ee0420804b41', 'build_date': '2024-12-11T12:08:05.663969764Z', 'build_snapshot': False, 'lucene_version': '9.12.0', 'minimum_wire_compatibility_version': '7.17.0', 'minimum_index_compatibility_version': '7.0.0'}, 'tagline': 'You Know, for Search'}\n"
     ]
    }
   ],
   "source": [
    "import os\n",
    "\n",
    "from DBApp.Knowledge.workflow import KnowledgeExtractionWorkflow\n",
    "from DBApp.Storage.verctorstorage.esModule import ES_DB_Control, ES_DB_search\n",
    "\n",
    "esdbcontrol = ES_DB_Control()"
   ]
  },
  {
   "cell_type": "code",
   "execution_count": 2,
   "id": "520622de-7cd3-43c3-88df-5fffb1b2c88b",
   "metadata": {
    "tags": []
   },
   "outputs": [
    {
     "data": {
      "text/plain": [
       "'/qe/data/project/project_cen/project_cen/2025code/牛马系统全模态知识库'"
      ]
     },
     "execution_count": 2,
     "metadata": {},
     "output_type": "execute_result"
    }
   ],
   "source": [
    "pwd"
   ]
  },
  {
   "cell_type": "code",
   "execution_count": null,
   "id": "34ce9bb3-54d5-4b17-b5d9-26b445d15f2b",
   "metadata": {},
   "outputs": [],
   "source": []
  },
  {
   "cell_type": "code",
   "execution_count": null,
   "id": "929a2ef6-3553-48f9-99f2-e79f2603f41d",
   "metadata": {
    "tags": []
   },
   "outputs": [
    {
     "name": "stdout",
     "output_type": "stream",
     "text": [
      "Chunk ID: 5fbd4658-c1a3-4399-9bc5-51e9db121dd8\n",
      "Content: # 中国移动超级 SIM 卡技术白皮书（2020 年）  \n",
      "\n",
      "中国移动研究院  \n",
      "\n",
      "# 前 言  \n",
      "...\n",
      "--------------------------------------------------\n",
      "Chunk ID: 69f40a6a-3d60-4d8b-80d6-f7490111aef4\n",
      "Content: 本白皮书旨在明确中国移动对于个人领域 SIM 卡的发展方向、架构设计及能力要求，希望能够为产业在规划...\n",
      "--------------------------------------------------\n",
      "Chunk ID: 91486a21-37fb-4872-b556-eb2ba7a17f16\n",
      "Content: 3.2.7 密码算法性能. ..9  \n",
      "3.3 应用基础能力层技术要求.. 11  \n",
      "3.3.1 G...\n",
      "--------------------------------------------------\n",
      "Chunk ID: 187f4bda-dc8b-480c-9b3b-4bd537bbe26d\n",
      "Content: 2020 年是 5G 加速发展的发力年，根据国家“加快 5G 网络等新型基础设施建设，积极丰富 5G...\n",
      "--------------------------------------------------\n",
      "Chunk ID: 25b06399-cfa5-44cb-9b59-cf59b673e4da\n",
      "Content: 本次中国移动推出的超级 SIM 卡，首先在 4G 基础上针对 3GPP 5G 标准中定义的新功能和新...\n",
      "--------------------------------------------------\n",
      "Chunk ID: a527fe75-477f-49b1-bfbc-fce25fa203dd\n",
      "Content: 一是 NFC 刷卡。NFC 技术具有交易速度快、安全性高的优势，支持双离线场景（刷卡交易双方的设备均...\n",
      "--------------------------------------------------\n",
      "Chunk ID: 36a61a23-b43e-4b3e-a72c-364edabb12e8\n",
      "Content: 三是安全保障服务。超级 SIM 卡作为终端侧的高可信硬件，还可用于存储 APP 业务密钥和敏感数据（...\n",
      "--------------------------------------------------\n",
      "Chunk ID: 54168b9f-f419-438e-a15d-a4b22ac3bc16\n",
      "Content: $\\spadesuit$ 统一、高效的密码算法服务。超级 SIM 卡支持 RSA、ECC、3DES、...\n",
      "--------------------------------------------------\n",
      "Chunk ID: a62188a6-e9e6-4516-b7b9-b6e21cb3f08d\n",
      "Content: 最后超级 SIM 卡预置了中国移动自有应用提供各类服务。SIM 快捷确认应用可实现 PC、WAP、A...\n",
      "--------------------------------------------------\n",
      "Chunk ID: 36db0397-1613-444a-b57a-297bc23ab6bb\n",
      "Content: 应用基础能力层：主要定义GP应用管理，实现应用程序提供在卡内下载、安装、删除的管理和存储等服务，并实...\n",
      "--------------------------------------------------\n",
      "Chunk ID: a89dd152-c835-45f2-af18-074abd8ffe7b\n",
      "Content: ISO7816 接口是 SIM 卡与外部终端设备进行通信的接触式 I/O 接口，遵循ETSI 102...\n",
      "--------------------------------------------------\n",
      "Chunk ID: 04e31536-46ad-47ef-b1c1-f64541606292\n",
      "Content: 支持 USAT/STK 指令及功能，符合 3GPP TS 31.111/11.14 要求。STK 或...\n",
      "--------------------------------------------------\n",
      "Chunk ID: 0c7859b1-25f1-4511-86d5-83693f833453\n",
      "Content: 5G 对用户身份（SUPI）引入安全保护，即通过 SIM 卡中的归属网络公钥对SUPI 进行加密生成...\n",
      "--------------------------------------------------\n",
      "Chunk ID: de2e2496-b44a-488a-be61-9a5352c28a20\n",
      "Content: GBA 认证是 3GPP 定义的一种基于运营商通信网络的安全基础设施，可以为应用层业务提供统一的安全...\n",
      "--------------------------------------------------\n",
      "Chunk ID: fb2ffcfa-8bf4-4081-a8f3-6293b65b4073\n",
      "Content: BIP 协议是承载无关协议，是 3GPP TS 31. 111 中提出的一种面向连接的传输协议。协议...\n",
      "--------------------------------------------------\n",
      "Chunk ID: 424b70b5-a594-4967-afce-ed806408451b\n",
      "Content: 支持应用优先级管理功能，正常的移动通讯功能不会导致非接触交易的失败，同时非接触交易的操作也不应导致通...\n",
      "--------------------------------------------------\n",
      "Chunk ID: afc9311d-ccf9-4823-b5cb-76503fceda5f\n",
      "Content: <html><body><table><tr><td>测试项</td><td>使用方法</td><t...\n",
      "--------------------------------------------------\n",
      "Chunk ID: 86866181-e9d5-40cc-afc8-7bdff6be3f50\n",
      "Content: <html><body><table><tr><td rowspan=\"5\"></td><td>RS...\n",
      "--------------------------------------------------\n",
      "Chunk ID: 862bec25-57c5-42c7-b14e-8b7e238baaeb\n",
      "Content: # 3.3 应用基础能力层技术要求  \n",
      "\n",
      "# 3.3.1 GP 多应用管理技术  \n",
      "\n",
      "传统智能卡应用...\n",
      "--------------------------------------------------\n",
      "Chunk ID: 91267929-cd1e-4caa-82aa-47d5ceda30bc\n",
      "Content: 超级 SIM 卡在各种安全通道（SCP02、SCP80、SCP81 等）的使用中，均禁止单 DES ...\n",
      "--------------------------------------------------\n",
      "Chunk ID: dfa9da13-a973-49b0-8e9d-8ce0997eb612\n",
      "Content: API 方式供上层应用调用。  \n",
      "\n",
      "# 3.3.4 RAM/RFM 技术  \n",
      "\n",
      "RAM(远程应用管理...\n",
      "--------------------------------------------------\n",
      "Chunk ID: 04719fcd-7c8f-420a-abf2-38e5edc43d7e\n",
      "Content: 客户端与 SIM 卡应用之间的通讯需要通过手机终端操作系统提供 OpenMobile API 接口实...\n",
      "--------------------------------------------------\n",
      "Chunk ID: cde78d6e-6d5c-41ff-a92e-cfb451823f17\n",
      "Content: SIM 盾（移动签名）是统一认证业务的一种认证方式，可为中国移动自有业务或第三方业务应用（如银行、政...\n",
      "--------------------------------------------------\n",
      "Chunk ID: f7f2bbb5-ef78-4ce0-b7da-425677012f41\n",
      "Content: 中国移动希望携手产业链不断完善超级SIM卡的关键技术与功能，进一步提升机卡接口速率突破现有瓶颈，扩大...\n",
      "--------------------------------------------------\n",
      "Chunk ID: 364c1a8f-d535-4266-bd9d-ffbd0876bd00\n",
      "Content: <html><body><table><tr><td>缩略语</td><td>英文全名</td><t...\n",
      "--------------------------------------------------\n",
      "Chunk ID: 0edbd6cb-90c9-4110-bb05-b287d4101ed7\n",
      "Content: # 参考文献  \n",
      "\n",
      "[1] 3GPP TS 11.14，Digital cellular telec...\n",
      "--------------------------------------------------\n",
      "Chunk ID: 714e3d87-9e83-44be-8bf3-627f1bbc3d92\n",
      "Content: [5] ETSI TS 102 613，Smart cards: UICC-CLF interfac...\n",
      "--------------------------------------------------\n",
      "Chunk ID: 6c85766c-8844-47ca-87f4-0ca7e557f75c\n",
      "Content: [9] GP V2.2.1 – UICC,GlobalPlatform Card UICC Conf...\n",
      "--------------------------------------------------\n"
     ]
    }
   ],
   "source": [
    "# 测试代码\n",
    "if __name__ == \"__main__\":\n",
    "    # 创建工作流\n",
    "    workflow =  KnowledgeExtractionWorkflow()\n",
    "\n",
    "    # 执行完整流程\n",
    "    custom_up_info = {\n",
    "        \"jb_ID\": \"010101\",\n",
    "        \"temp_info\": {\n",
    "            \"file_name\": \"01010_移动xxx\",\n",
    "            \"temp_base_path\": \"DBApp/ModelServer/PDF2MDServer/OutputTemp/\",\n",
    "        },\n",
    "        \"save_info\": {\n",
    "            \"CustomID\": \"CENzhongpei\",\n",
    "            \"DBName\": \"testTempDB01\",\n",
    "            \"DocName\": \"移动xxx\",\n",
    "        },\n",
    "    }\n",
    "\n",
    "    chunks = workflow.process(custom_up_info)\n",
    "\n",
    "    # 输出结果\n",
    "    for chunk in chunks:\n",
    "        print(f\"Chunk ID: {chunk.metadata.id}\")\n",
    "        print(f\"Content: {chunk.content[:50]}...\")\n",
    "        # print(f\"Metadata: {chunk.metadata}\")\n",
    "        print(\"-\" * 50)"
   ]
  },
  {
   "cell_type": "code",
   "execution_count": 3,
   "id": "a003da35-019f-4766-a812-97a2d49fa8e5",
   "metadata": {
    "tags": []
   },
   "outputs": [
    {
     "name": "stdout",
     "output_type": "stream",
     "text": [
      "Document count: {'count': 1, '_shards': {'total': 1, 'successful': 1, 'skipped': 0, 'failed': 0}}\n",
      "Aggregation result: {'by_db_name': {'doc_count_error_upper_bound': 0, 'sum_other_doc_count': 0, 'buckets': []}}\n"
     ]
    }
   ],
   "source": [
    "count = esdbcontrol.es.count(index='newtest01')\n",
    "\n",
    "print(\"Document count:\", count)\n",
    "esdbcontrol.es.indices.refresh(index='newtest01')\n",
    "\n",
    "query = {\n",
    "    \"aggs\": {\n",
    "        \"by_db_name\": {\n",
    "            \"terms\": {\n",
    "                \"field\": \"db_name.keyword\",\n",
    "                \"size\": 10\n",
    "            }\n",
    "        }\n",
    "    }\n",
    "}\n",
    "\n",
    "result = esdbcontrol.es.search(index='newtest01', body=query)\n",
    "print(\"Aggregation result:\", result['aggregations'])"
   ]
  },
  {
   "cell_type": "code",
   "execution_count": 6,
   "id": "d12da054-79dc-4903-9bdf-5aa2f5d36a73",
   "metadata": {
    "tags": []
   },
   "outputs": [
    {
     "name": "stdout",
     "output_type": "stream",
     "text": [
      "Uploaded chunk 1/1: (28, [])\n",
      "Index newtest01 refreshed\n"
     ]
    }
   ],
   "source": [
    "esdbcontrol.create_index()  # 设置向量维度\n",
    "\n",
    "esdbcontrol.UpChunks2DB(chunks)  # 假设 chunks 已定义"
   ]
  },
  {
   "cell_type": "code",
   "execution_count": null,
   "id": "e1d06563-a810-4ca0-a712-4ef85dd531c1",
   "metadata": {},
   "outputs": [],
   "source": []
  },
  {
   "cell_type": "code",
   "execution_count": 7,
   "id": "572f5388-0547-4a44-b377-6052ea62a662",
   "metadata": {
    "tags": []
   },
   "outputs": [
    {
     "name": "stdout",
     "output_type": "stream",
     "text": [
      "Total documents in index: 29\n",
      "Found 2 unique db_names\n",
      "DB names: [{'db_name': 'testTempDB01', 'count': 28}, {'db_name': 'test_db', 'count': 1}]\n"
     ]
    }
   ],
   "source": [
    "# 测试原始方法\n",
    "db_names = esdbcontrol.get_unique_db_names_and_counts()\n",
    "print(\"DB names:\", db_names)"
   ]
  },
  {
   "cell_type": "code",
   "execution_count": null,
   "id": "ffc12eec-8c0f-49b4-bdbd-eea24dd198e5",
   "metadata": {},
   "outputs": [],
   "source": []
  },
  {
   "cell_type": "code",
   "execution_count": 8,
   "id": "a9c1e88c-d80d-4427-84a1-f7b152e382bc",
   "metadata": {
    "tags": []
   },
   "outputs": [
    {
     "name": "stdout",
     "output_type": "stream",
     "text": [
      "Uploaded chunk 1/1: (28, [])\n",
      "Index newtest01 refreshed\n"
     ]
    }
   ],
   "source": []
  },
  {
   "cell_type": "code",
   "execution_count": 8,
   "id": "b9f50a39-adb0-41cc-bc8e-4f9d363ed4a8",
   "metadata": {
    "tags": []
   },
   "outputs": [
    {
     "name": "stdout",
     "output_type": "stream",
     "text": [
      "Total documents in index: 29\n",
      "Found 2 unique db_names\n"
     ]
    },
    {
     "data": {
      "text/plain": [
       "[{'db_name': 'testTempDB01', 'count': 28}, {'db_name': 'test_db', 'count': 1}]"
      ]
     },
     "execution_count": 8,
     "metadata": {},
     "output_type": "execute_result"
    }
   ],
   "source": [
    "esdbcontrol.get_unique_db_names_and_counts()\n",
    "\n",
    "# esdbcontrol.get_unique_titles('testTempDB01')"
   ]
  },
  {
   "cell_type": "code",
   "execution_count": 4,
   "id": "cbf202e6-5e00-4052-a81c-c411bb4cb434",
   "metadata": {
    "tags": []
   },
   "outputs": [
    {
     "name": "stdout",
     "output_type": "stream",
     "text": [
      "Index mapping: {'newtest01': {'mappings': {'properties': {'db_name': {'type': 'keyword'}, 'embeddingvector': {'type': 'dense_vector', 'dims': 1024, 'index': True, 'similarity': 'cosine', 'index_options': {'type': 'int8_hnsw', 'm': 16, 'ef_construction': 100}}, 'file_name': {'type': 'keyword'}, 'offset_end': {'type': 'integer'}, 'offset_start': {'type': 'integer'}, 'pagecontent': {'type': 'text'}}}}}\n"
     ]
    }
   ],
   "source": [
    "mapping = esdbcontrol.es.indices.get_mapping(index='newtest01')\n",
    "print(\"Index mapping:\", mapping)"
   ]
  },
  {
   "cell_type": "code",
   "execution_count": 6,
   "id": "de9dcafa-676c-4196-86f3-8b9d26dcb5a0",
   "metadata": {},
   "outputs": [],
   "source": [
    "# esdbcontrol.delete_documents_by_db_name(db_name)"
   ]
  },
  {
   "cell_type": "code",
   "execution_count": null,
   "id": "0ec21a4e-b30d-46cc-8702-2b2e02b69db7",
   "metadata": {},
   "outputs": [],
   "source": []
  },
  {
   "cell_type": "code",
   "execution_count": 3,
   "id": "59fe5ab3-fe22-49d7-a347-2f14d291608d",
   "metadata": {
    "tags": []
   },
   "outputs": [
    {
     "name": "stdout",
     "output_type": "stream",
     "text": [
      "Attempting to connect to http://localhost:19200 for ES_DB_search\n",
      "Connected to Elasticsearch for ES_DB_search: {'name': 'b94020e29ad8', 'cluster_name': 'docker-cluster', 'cluster_uuid': '9KKN5ZsUTtyRl9hUzdXFOQ', 'version': {'number': '8.17.0', 'build_flavor': 'default', 'build_type': 'docker', 'build_hash': '2b6a7fed44faa321997703718f07ee0420804b41', 'build_date': '2024-12-11T12:08:05.663969764Z', 'build_snapshot': False, 'lucene_version': '9.12.0', 'minimum_wire_compatibility_version': '7.17.0', 'minimum_index_compatibility_version': '7.0.0'}, 'tagline': 'You Know, for Search'}\n",
      "[('本白皮书旨在明确中国移动对于个人领域 SIM 卡的发展方向、架构设计及能力要求，希望能够为产业在规划设计 SIM 卡相关技术、产品和解决方案时提供参考和指引。利用超级 SIM 卡空间开放能力，中国移动希望联合各行业合作伙伴探索高质量的 SIM 卡业务，提升 SIM卡价值，构建 SIM 卡业务生态体系，服务用户生活。  \\n\\n本白皮书的版权归中国移动所有，未经授权，任何单位或个人不得复制或拷贝本建议之部分或全部内容。  \\n\\n# 目 录  \\n\\n1. 概述.. 2  \\n2. 技术架构.. .5  \\n3. 技术要求.. .6  \\n3.1 硬件层.. 6  \\n3.1.1 芯片安全要求. .6  \\n3.1.2 物理电气特性. ..6  \\n3.1.3 终端与卡通信接口.. 6  \\n3.1.4 擦写寿命要求. 7  \\n3.2 COS 层技术要求.. 7  \\n3.2.1 基础电信功能. 7  \\n3.2.2 5G 新增功能. 7  \\n3.2.3 GBA 认证.... .8  \\n3.2.4 BIP 协议.... .8  \\n3.2.5 多物理通道.. .8  \\n3.2.6 多逻辑通道.. ..9', 'testTempDB01'), ('最后超级 SIM 卡预置了中国移动自有应用提供各类服务。SIM 快捷确认应用可实现 PC、WAP、APP、H5 等场景下的用户快捷登录，以及业务审批等二次确认场景下的认证功能。SIM 盾应用替代传统 U 盾，在 SIM 卡安全芯片中存储多张个人数字证书，为金融行业、政府、企业办公提供高安全认证服务，已与中国银行、浦发银行开展商业合作。另外，超级 SIM 卡还支持白卡写卡服务，用户通过手机APP 即可足不出户、自助完成新开卡和补换卡服务。  \\n\\n# 2. 技术架构  \\n\\n中国移动超级SIM卡技术架构如图2-1所示，包括：硬件层、COS层、应用基础能力层和应用层四部分。  \\n\\n![](images/d410b87d8f686daefa04585f60c5454ed0b3237fe83a77b3cfef63ed8f63a1b5.jpg)  \\n图 2-1 中国移动超级 SIM 卡技术架构  \\n\\n硬件层：定义SIM卡物理层访问接口，IO、CPU、存储器、协处理器等。  \\n\\nCOS层：主要定义SIM卡内存管理和文件系统等基础处理、各类安全机制、SIM/USIM逻辑功能、空中短信传输协议控制等。', 'testTempDB01'), ('本次中国移动推出的超级 SIM 卡，首先在 4G 基础上针对 3GPP 5G 标准中定义的新功能和新文件进行了全面升级。超级 SIM 卡新增加了用户身份隐私保护能力，采用国际高安全算法对用户标识（SUPI）进行加密得到 SUCI，避免了 5G 用户身份标识在空口被截获，降低了个人隐私数据被收集的风险。超级 SIM 卡引入了 3GPP 5G 标准中升级的设备移动性管理功能，利用 SIM 卡内置的位置信息、安全上下文文件，记录 5G 设备的位置信息和驻网信息，提升了设备的二次驻网速度。 超级 SIM 卡引入 5G 接入控制功能，通过卡内文件配置可实现签约用户对多媒体服务和关键事务服务接入类型的优先级控制，满足用户的不同类别的通信业务需求。通过使用 UE 路由选择策略服务，卡内可存储默认切片配置相关信息，为用户享受运营商提供的 5G 基础切片服务提供支撑。  \\n\\n其次除提供基础 4G/5G 电信服务外，超级 SIM 卡还可凭借高安全、开放性特点发挥更大作用，赋能千行百业。超级 SIM 卡的典型应用场景包括三类：', 'testTempDB01'), ('2020 年是 5G 加速发展的发力年，根据国家“加快 5G 网络等新型基础设施建设，积极丰富 5G 技术应用场景”战略部署，中国移动将对 5G 通信网络进行全面升级，夯实经济数字化转型基础，不断丰富 5G 应用场景，拓展信息消费的新业态、新模式。5G 支持 eMBB（增强移动宽带）、mMTC(海量机器类通信)和 uRLLC(超可靠、低时延通信)三大典型应用场景，从人与人通信延伸到人与物、物与物的连接，真正实现了“万物互联”。所有联网设备都需要通过 SIM 卡完成认证，对SIM 卡提出了更高的安全要求和功能要求。', 'testTempDB01'), ('中国移动希望携手产业链不断完善超级SIM卡的关键技术与功能，进一步提升机卡接口速率突破现有瓶颈，扩大容量承载更多应用，设计SIM卡和云的结合方案实现SIM卡能力云化等，向产业提供更加优质的SIM卡产品。同时希望以超级SIM卡为载体，为产业各方提供更加广阔的市场契机。联合各行各业加快SIM应用产品创新，丰富应用场景，逐步将传统的银行卡、公交卡、一卡通（政府、企业、社区、校园等）、门禁、身份证、货币、U盾、车钥匙等功能与SIM卡结合，构建SIM卡业务生态体系，利用SIM卡渗透到用户生活的方方面面，提供便捷、全方位的服务，将SIM卡打造为服务社会的基础设施，不断满足人民日益增长的美好生活需要。  \\n\\n# 缩略语列表', 'testTempDB01')]\n",
      "Search results: ([('2020 年是 5G 加速发展的发力年，根据国家“加快 5G 网络等新型基础设施建设，积极丰富 5G 技术应用场景”战略部署，中国移动将对 5G 通信网络进行全面升级，夯实经济数字化转型基础，不断丰富 5G 应用场景，拓展信息消费的新业态、新模式。5G 支持 eMBB（增强移动宽带）、mMTC(海量机器类通信)和 uRLLC(超可靠、低时延通信)三大典型应用场景，从人与人通信延伸到人与物、物与物的连接，真正实现了“万物互联”。所有联网设备都需要通过 SIM 卡完成认证，对SIM 卡提出了更高的安全要求和功能要求。', 'testTempDB01'), ('中国移动希望携手产业链不断完善超级SIM卡的关键技术与功能，进一步提升机卡接口速率突破现有瓶颈，扩大容量承载更多应用，设计SIM卡和云的结合方案实现SIM卡能力云化等，向产业提供更加优质的SIM卡产品。同时希望以超级SIM卡为载体，为产业各方提供更加广阔的市场契机。联合各行各业加快SIM应用产品创新，丰富应用场景，逐步将传统的银行卡、公交卡、一卡通（政府、企业、社区、校园等）、门禁、身份证、货币、U盾、车钥匙等功能与SIM卡结合，构建SIM卡业务生态体系，利用SIM卡渗透到用户生活的方方面面，提供便捷、全方位的服务，将SIM卡打造为服务社会的基础设施，不断满足人民日益增长的美好生活需要。  \\n\\n# 缩略语列表', 'testTempDB01'), ('本白皮书旨在明确中国移动对于个人领域 SIM 卡的发展方向、架构设计及能力要求，希望能够为产业在规划设计 SIM 卡相关技术、产品和解决方案时提供参考和指引。利用超级 SIM 卡空间开放能力，中国移动希望联合各行业合作伙伴探索高质量的 SIM 卡业务，提升 SIM卡价值，构建 SIM 卡业务生态体系，服务用户生活。  \\n\\n本白皮书的版权归中国移动所有，未经授权，任何单位或个人不得复制或拷贝本建议之部分或全部内容。  \\n\\n# 目 录  \\n\\n1. 概述.. 2  \\n2. 技术架构.. .5  \\n3. 技术要求.. .6  \\n3.1 硬件层.. 6  \\n3.1.1 芯片安全要求. .6  \\n3.1.2 物理电气特性. ..6  \\n3.1.3 终端与卡通信接口.. 6  \\n3.1.4 擦写寿命要求. 7  \\n3.2 COS 层技术要求.. 7  \\n3.2.1 基础电信功能. 7  \\n3.2.2 5G 新增功能. 7  \\n3.2.3 GBA 认证.... .8  \\n3.2.4 BIP 协议.... .8  \\n3.2.5 多物理通道.. .8  \\n3.2.6 多逻辑通道.. ..9', 'testTempDB01'), ('最后超级 SIM 卡预置了中国移动自有应用提供各类服务。SIM 快捷确认应用可实现 PC、WAP、APP、H5 等场景下的用户快捷登录，以及业务审批等二次确认场景下的认证功能。SIM 盾应用替代传统 U 盾，在 SIM 卡安全芯片中存储多张个人数字证书，为金融行业、政府、企业办公提供高安全认证服务，已与中国银行、浦发银行开展商业合作。另外，超级 SIM 卡还支持白卡写卡服务，用户通过手机APP 即可足不出户、自助完成新开卡和补换卡服务。  \\n\\n# 2. 技术架构  \\n\\n中国移动超级SIM卡技术架构如图2-1所示，包括：硬件层、COS层、应用基础能力层和应用层四部分。  \\n\\n![](images/d410b87d8f686daefa04585f60c5454ed0b3237fe83a77b3cfef63ed8f63a1b5.jpg)  \\n图 2-1 中国移动超级 SIM 卡技术架构  \\n\\n硬件层：定义SIM卡物理层访问接口，IO、CPU、存储器、协处理器等。  \\n\\nCOS层：主要定义SIM卡内存管理和文件系统等基础处理、各类安全机制、SIM/USIM逻辑功能、空中短信传输协议控制等。', 'testTempDB01'), ('本次中国移动推出的超级 SIM 卡，首先在 4G 基础上针对 3GPP 5G 标准中定义的新功能和新文件进行了全面升级。超级 SIM 卡新增加了用户身份隐私保护能力，采用国际高安全算法对用户标识（SUPI）进行加密得到 SUCI，避免了 5G 用户身份标识在空口被截获，降低了个人隐私数据被收集的风险。超级 SIM 卡引入了 3GPP 5G 标准中升级的设备移动性管理功能，利用 SIM 卡内置的位置信息、安全上下文文件，记录 5G 设备的位置信息和驻网信息，提升了设备的二次驻网速度。 超级 SIM 卡引入 5G 接入控制功能，通过卡内文件配置可实现签约用户对多媒体服务和关键事务服务接入类型的优先级控制，满足用户的不同类别的通信业务需求。通过使用 UE 路由选择策略服务，卡内可存储默认切片配置相关信息，为用户享受运营商提供的 5G 基础切片服务提供支撑。  \\n\\n其次除提供基础 4G/5G 电信服务外，超级 SIM 卡还可凭借高安全、开放性特点发挥更大作用，赋能千行百业。超级 SIM 卡的典型应用场景包括三类：', 'testTempDB01')], [0.3863181471824646, 0.31064404249191285, 0.269730544090271, 0.2691824913024902, 0.2181471586227417])\n"
     ]
    }
   ],
   "source": [
    "# from your_module import ES_DB_search\n",
    "\n",
    "es_search = ES_DB_search()\n",
    "results = es_search.hybrid_search(db_name='testTempDB01', query_text='中国', n=5)\n",
    "\n",
    "\n",
    "print(\"Search results:\", results)"
   ]
  },
  {
   "cell_type": "code",
   "execution_count": 10,
   "id": "dc23d2d1-b9df-4cf2-9f2e-2a9e9e1fc147",
   "metadata": {
    "tags": []
   },
   "outputs": [
    {
     "data": {
      "text/plain": [
       "[]"
      ]
     },
     "execution_count": 10,
     "metadata": {},
     "output_type": "execute_result"
    }
   ],
   "source": [
    "results"
   ]
  },
  {
   "cell_type": "code",
   "execution_count": null,
   "id": "03e245d7-f0c4-4860-9b7e-f3c0c2cacaa9",
   "metadata": {},
   "outputs": [],
   "source": []
  },
  {
   "cell_type": "code",
   "execution_count": null,
   "id": "6601773b-c992-4f00-8274-6a08780a0115",
   "metadata": {},
   "outputs": [],
   "source": []
  },
  {
   "cell_type": "code",
   "execution_count": null,
   "id": "964ac434-9566-48fa-b235-f1254701ceaa",
   "metadata": {},
   "outputs": [],
   "source": []
  }
 ],
 "metadata": {
  "kernelspec": {
   "display_name": "cen",
   "language": "python",
   "name": "cen"
  },
  "language_info": {
   "codemirror_mode": {
    "name": "ipython",
    "version": 3
   },
   "file_extension": ".py",
   "mimetype": "text/x-python",
   "name": "python",
   "nbconvert_exporter": "python",
   "pygments_lexer": "ipython3",
   "version": "3.10.11"
  }
 },
 "nbformat": 4,
 "nbformat_minor": 5
}
