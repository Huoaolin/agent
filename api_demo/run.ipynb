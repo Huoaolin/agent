{
 "cells": [
  {
   "cell_type": "code",
   "execution_count": 1,
   "id": "539c3a69-b2c9-4499-8e40-96fddf52b7a7",
   "metadata": {
    "collapsed": true,
    "jupyter": {
     "outputs_hidden": true
    },
    "tags": []
   },
   "outputs": [
    {
     "name": "stdout",
     "output_type": "stream",
     "text": [
      "Looking in indexes: https://pypi.tuna.tsinghua.edu.cn/simple/\n",
      "Requirement already satisfied: Flask in /home/qe/.local/lib/python3.10/site-packages (3.0.3)\n",
      "Requirement already satisfied: googletrans==4.0.0-rc1 in /home/qe/miniconda3/envs/cen/lib/python3.10/site-packages (4.0.0rc1)\n",
      "Collecting httpx==0.13.3 (from googletrans==4.0.0-rc1)\n",
      "  Using cached https://pypi.tuna.tsinghua.edu.cn/packages/54/b4/698b284c6aed4d7c2b4fe3ba5df1fcf6093612423797e76fbb24890dd22f/httpx-0.13.3-py3-none-any.whl (55 kB)\n",
      "Requirement already satisfied: certifi in /home/qe/miniconda3/envs/cen/lib/python3.10/site-packages (from httpx==0.13.3->googletrans==4.0.0-rc1) (2023.7.22)\n",
      "Requirement already satisfied: hstspreload in /home/qe/miniconda3/envs/cen/lib/python3.10/site-packages (from httpx==0.13.3->googletrans==4.0.0-rc1) (2023.1.1)\n",
      "Requirement already satisfied: sniffio in /home/qe/.local/lib/python3.10/site-packages (from httpx==0.13.3->googletrans==4.0.0-rc1) (1.3.1)\n",
      "Requirement already satisfied: chardet==3.* in /home/qe/miniconda3/envs/cen/lib/python3.10/site-packages (from httpx==0.13.3->googletrans==4.0.0-rc1) (3.0.4)\n",
      "Collecting idna==2.* (from httpx==0.13.3->googletrans==4.0.0-rc1)\n",
      "  Using cached https://pypi.tuna.tsinghua.edu.cn/packages/a2/38/928ddce2273eaa564f6f50de919327bf3a00f091b5baba8dfa9460f3a8a8/idna-2.10-py2.py3-none-any.whl (58 kB)\n",
      "Requirement already satisfied: rfc3986<2,>=1.3 in /home/qe/miniconda3/envs/cen/lib/python3.10/site-packages (from httpx==0.13.3->googletrans==4.0.0-rc1) (1.5.0)\n",
      "Collecting httpcore==0.9.* (from httpx==0.13.3->googletrans==4.0.0-rc1)\n",
      "  Using cached https://pypi.tuna.tsinghua.edu.cn/packages/dd/d5/e4ff9318693ac6101a2095e580908b591838c6f33df8d3ee8dd953ba96a8/httpcore-0.9.1-py3-none-any.whl (42 kB)\n",
      "Collecting h11<0.10,>=0.8 (from httpcore==0.9.*->httpx==0.13.3->googletrans==4.0.0-rc1)\n",
      "  Using cached https://pypi.tuna.tsinghua.edu.cn/packages/5a/fd/3dad730b0f95e78aeeb742f96fa7bbecbdd56a58e405d3da440d5bfb90c6/h11-0.9.0-py2.py3-none-any.whl (53 kB)\n",
      "Requirement already satisfied: h2==3.* in /home/qe/miniconda3/envs/cen/lib/python3.10/site-packages (from httpcore==0.9.*->httpx==0.13.3->googletrans==4.0.0-rc1) (3.2.0)\n",
      "Requirement already satisfied: hyperframe<6,>=5.2.0 in /home/qe/miniconda3/envs/cen/lib/python3.10/site-packages (from h2==3.*->httpcore==0.9.*->httpx==0.13.3->googletrans==4.0.0-rc1) (5.2.0)\n",
      "Requirement already satisfied: hpack<4,>=3.0 in /home/qe/miniconda3/envs/cen/lib/python3.10/site-packages (from h2==3.*->httpcore==0.9.*->httpx==0.13.3->googletrans==4.0.0-rc1) (3.0.0)\n",
      "Requirement already satisfied: Werkzeug>=3.0.0 in /home/qe/.local/lib/python3.10/site-packages (from Flask) (3.0.3)\n",
      "Requirement already satisfied: Jinja2>=3.1.2 in /home/qe/.local/lib/python3.10/site-packages (from Flask) (3.1.4)\n",
      "Requirement already satisfied: itsdangerous>=2.1.2 in /home/qe/.local/lib/python3.10/site-packages (from Flask) (2.2.0)\n",
      "Requirement already satisfied: click>=8.1.3 in /home/qe/.local/lib/python3.10/site-packages (from Flask) (8.1.7)\n",
      "Requirement already satisfied: blinker>=1.6.2 in /home/qe/.local/lib/python3.10/site-packages (from Flask) (1.8.2)\n",
      "Requirement already satisfied: MarkupSafe>=2.0 in /home/qe/.local/lib/python3.10/site-packages (from Jinja2>=3.1.2->Flask) (2.1.5)\n",
      "Installing collected packages: h11, idna, httpcore, httpx\n",
      "  Attempting uninstall: h11\n",
      "    Found existing installation: h11 0.14.0\n",
      "    Uninstalling h11-0.14.0:\n",
      "      Successfully uninstalled h11-0.14.0\n",
      "  Attempting uninstall: idna\n",
      "    Found existing installation: idna 3.7\n",
      "    Uninstalling idna-3.7:\n",
      "      Successfully uninstalled idna-3.7\n",
      "  Attempting uninstall: httpcore\n",
      "    Found existing installation: httpcore 1.0.5\n",
      "    Uninstalling httpcore-1.0.5:\n",
      "      Successfully uninstalled httpcore-1.0.5\n",
      "  Attempting uninstall: httpx\n",
      "    Found existing installation: httpx 0.27.0\n",
      "    Uninstalling httpx-0.27.0:\n",
      "      Successfully uninstalled httpx-0.27.0\n",
      "\u001b[31mERROR: pip's dependency resolver does not currently take into account all the packages that are installed. This behaviour is the source of the following dependency conflicts.\n",
      "apache-beam 2.49.0 requires dill<0.3.2,>=0.3.1.1, but you have dill 0.3.8 which is incompatible.\n",
      "apache-beam 2.49.0 requires numpy<1.25.0,>=1.14.3, but you have numpy 1.26.4 which is incompatible.\n",
      "apache-beam 2.49.0 requires protobuf<4.24.0,>=3.20.3, but you have protobuf 5.29.3 which is incompatible.\n",
      "apache-beam 2.49.0 requires pyarrow<12.0.0,>=3.0.0, but you have pyarrow 16.1.0 which is incompatible.\n",
      "docling 1.15.0 requires certifi>=2024.7.4, but you have certifi 2023.7.22 which is incompatible.\n",
      "docling 1.15.0 requires scipy<2.0.0,>=1.14.1, but you have scipy 1.11.1 which is incompatible.\n",
      "fastapi 0.104.1 requires anyio<4.0.0,>=3.7.1, but you have anyio 4.4.0 which is incompatible.\n",
      "langchain 0.0.310 requires anyio<4.0, but you have anyio 4.4.0 which is incompatible.\n",
      "langchain-community 0.2.17 requires langchain<0.3.0,>=0.2.16, but you have langchain 0.0.310 which is incompatible.\n",
      "langchain-community 0.2.17 requires langsmith<0.2.0,>=0.1.112, but you have langsmith 0.0.43 which is incompatible.\n",
      "llamaindex-py-client 0.1.15 requires httpx>=0.20.0, but you have httpx 0.13.3 which is incompatible.\n",
      "megaparse 0.0.31 requires langchain>=0.2.0, but you have langchain 0.0.310 which is incompatible.\n",
      "megaparse 0.0.31 requires python-pptx>=1.0.2, but you have python-pptx 0.6.23 which is incompatible.\n",
      "openai 1.40.8 requires httpx<1,>=0.23.0, but you have httpx 0.13.3 which is incompatible.\n",
      "primeqa 0.15.2 requires click~=8.0.4, but you have click 8.1.7 which is incompatible.\n",
      "primeqa 0.15.2 requires datasets[apache-beam]~=2.3.2, but you have datasets 2.20.0 which is incompatible.\n",
      "primeqa 0.15.2 requires fastapi~=0.85.0, but you have fastapi 0.104.1 which is incompatible.\n",
      "primeqa 0.15.2 requires grpcio~=1.48.1, but you have grpcio 1.66.1 which is incompatible.\n",
      "primeqa 0.15.2 requires jsonlines~=3.0.0, but you have jsonlines 3.1.0 which is incompatible.\n",
      "primeqa 0.15.2 requires numpy~=1.21.5, but you have numpy 1.26.4 which is incompatible.\n",
      "primeqa 0.15.2 requires openai~=0.27.0, but you have openai 1.40.8 which is incompatible.\n",
      "primeqa 0.15.2 requires packaging~=21.3, but you have packaging 24.1 which is incompatible.\n",
      "primeqa 0.15.2 requires pandas~=1.4.0, but you have pandas 1.5.3 which is incompatible.\n",
      "primeqa 0.15.2 requires protobuf~=3.20.0, but you have protobuf 5.29.3 which is incompatible.\n",
      "primeqa 0.15.2 requires pyarrow~=7.0.0, but you have pyarrow 16.1.0 which is incompatible.\n",
      "primeqa 0.15.2 requires scikit-learn~=1.0.2, but you have scikit-learn 1.5.2 which is incompatible.\n",
      "primeqa 0.15.2 requires tabulate~=0.8.9, but you have tabulate 0.9.0 which is incompatible.\n",
      "primeqa 0.15.2 requires torch~=1.11.0, but you have torch 2.3.1 which is incompatible.\n",
      "primeqa 0.15.2 requires tqdm~=4.64.0, but you have tqdm 4.66.4 which is incompatible.\n",
      "primeqa 0.15.2 requires transformers~=4.24.0, but you have transformers 4.42.4 which is incompatible.\n",
      "primeqa 0.15.2 requires ujson~=5.1.0, but you have ujson 5.10.0 which is incompatible.\n",
      "spacy 3.6.1 requires typer<0.10.0,>=0.3.0, but you have typer 0.12.5 which is incompatible.\n",
      "tensorflow 2.13.0 requires numpy<=1.24.3,>=1.22, but you have numpy 1.26.4 which is incompatible.\n",
      "tensorflow 2.13.0 requires protobuf!=4.21.0,!=4.21.1,!=4.21.2,!=4.21.3,!=4.21.4,!=4.21.5,<5.0.0dev,>=3.20.3, but you have protobuf 5.29.3 which is incompatible.\n",
      "tensorflow 2.13.0 requires typing-extensions<4.6.0,>=3.6.6, but you have typing-extensions 4.12.2 which is incompatible.\n",
      "unstructured-client 0.25.9 requires dataclasses-json>=0.6.4, but you have dataclasses-json 0.5.14 which is incompatible.\n",
      "unstructured-client 0.25.9 requires httpx>=0.27.0, but you have httpx 0.13.3 which is incompatible.\n",
      "unstructured-client 0.25.9 requires idna>=3.4, but you have idna 2.10 which is incompatible.\n",
      "wandb 0.16.0 requires protobuf!=4.21.0,<5,>=3.19.0; python_version > \"3.9\" and sys_platform == \"linux\", but you have protobuf 5.29.3 which is incompatible.\u001b[0m\u001b[31m\n",
      "\u001b[0mSuccessfully installed h11-0.14.0 httpcore-0.9.1 httpx-0.13.3 idna-2.10\n",
      "Note: you may need to restart the kernel to use updated packages.\n"
     ]
    }
   ],
   "source": [
    "pip install Flask googletrans==4.0.0-rc1"
   ]
  },
  {
   "cell_type": "code",
   "execution_count": 2,
   "id": "f64f45e8-0b5a-4ce2-95d1-ce997dd0ae8b",
   "metadata": {
    "tags": []
   },
   "outputs": [
    {
     "data": {
      "text/plain": [
       "'/qe/data/project/project_cen/project_cen/2025code/通用Agent/api_demo'"
      ]
     },
     "execution_count": 2,
     "metadata": {},
     "output_type": "execute_result"
    }
   ],
   "source": [
    "pwd"
   ]
  },
  {
   "cell_type": "code",
   "execution_count": 5,
   "id": "24007942-b23c-4bff-96b9-fbf8bc4836ff",
   "metadata": {
    "tags": []
   },
   "outputs": [
    {
     "name": "stdout",
     "output_type": "stream",
     "text": [
      "请求失败: 500 {\"error\":\"timed out\"}\n",
      "\n"
     ]
    }
   ],
   "source": [
    "import requests\n",
    "\n",
    "# API 地址\n",
    "url = \"http://127.0.0.1:5000/translate\"\n",
    "\n",
    "# 请求体\n",
    "payload = {\n",
    "    \"text\": \"Hello, how are you?\",\n",
    "    \"dest_lang\": \"zh-cn\"\n",
    "}\n",
    "\n",
    "# 发送 POST 请求\n",
    "response = requests.post(url, json=payload)\n",
    "\n",
    "# 打印响应\n",
    "if response.status_code == 200:\n",
    "    print(\"翻译结果:\", response.json())\n",
    "else:\n",
    "    print(\"请求失败:\", response.status_code, response.text)"
   ]
  },
  {
   "cell_type": "code",
   "execution_count": 4,
   "id": "449f5af7-35fa-4202-a6cd-43936b3cfd4e",
   "metadata": {
    "tags": []
   },
   "outputs": [],
   "source": []
  },
  {
   "cell_type": "code",
   "execution_count": 5,
   "id": "1bb8112f-0285-4449-a1fd-091d24649bb5",
   "metadata": {
    "tags": []
   },
   "outputs": [],
   "source": []
  },
  {
   "cell_type": "code",
   "execution_count": 8,
   "id": "875258ff-099e-47f5-bd75-dff725546362",
   "metadata": {
    "tags": []
   },
   "outputs": [],
   "source": []
  },
  {
   "cell_type": "code",
   "execution_count": 17,
   "id": "a5474459-be98-4113-b84a-71fcbde59c4d",
   "metadata": {
    "tags": []
   },
   "outputs": [
    {
     "name": "stdout",
     "output_type": "stream",
     "text": [
      "API 调用成功，返回数据：\n",
      "{\n",
      "    \"data\": [\n",
      "        {\n",
      "            \"close\": 14.99,\n",
      "            \"open\": 15.24,\n",
      "            \"trade_date\": \"20230131\",\n",
      "            \"ts_code\": \"000001.SZ\"\n",
      "        },\n",
      "        {\n",
      "            \"close\": 15.15,\n",
      "            \"open\": 15.6,\n",
      "            \"trade_date\": \"20230130\",\n",
      "            \"ts_code\": \"000001.SZ\"\n",
      "        },\n",
      "        {\n",
      "            \"close\": 15.13,\n",
      "            \"open\": 15.16,\n",
      "            \"trade_date\": \"20230120\",\n",
      "            \"ts_code\": \"000001.SZ\"\n",
      "        },\n",
      "        {\n",
      "            \"close\": 15.09,\n",
      "            \"open\": 15.13,\n",
      "            \"trade_date\": \"20230119\",\n",
      "            \"ts_code\": \"000001.SZ\"\n",
      "        },\n",
      "        {\n",
      "            \"close\": 15.11,\n",
      "            \"open\": 14.95,\n",
      "            \"trade_date\": \"20230118\",\n",
      "            \"ts_code\": \"000001.SZ\"\n",
      "        },\n",
      "        {\n",
      "            \"close\": 14.97,\n",
      "            \"open\": 15.13,\n",
      "            \"trade_date\": \"20230117\",\n",
      "            \"ts_code\": \"000001.SZ\"\n",
      "        },\n",
      "        {\n",
      "            \"close\": 15.08,\n",
      "            \"open\": 14.95,\n",
      "            \"trade_date\": \"20230116\",\n",
      "            \"ts_code\": \"000001.SZ\"\n",
      "        },\n",
      "        {\n",
      "            \"close\": 14.95,\n",
      "            \"open\": 14.67,\n",
      "            \"trade_date\": \"20230113\",\n",
      "            \"ts_code\": \"000001.SZ\"\n",
      "        },\n",
      "        {\n",
      "            \"close\": 14.67,\n",
      "            \"open\": 14.77,\n",
      "            \"trade_date\": \"20230112\",\n",
      "            \"ts_code\": \"000001.SZ\"\n",
      "        },\n",
      "        {\n",
      "            \"close\": 14.67,\n",
      "            \"open\": 14.45,\n",
      "            \"trade_date\": \"20230111\",\n",
      "            \"ts_code\": \"000001.SZ\"\n",
      "        },\n",
      "        {\n",
      "            \"close\": 14.44,\n",
      "            \"open\": 14.76,\n",
      "            \"trade_date\": \"20230110\",\n",
      "            \"ts_code\": \"000001.SZ\"\n",
      "        },\n",
      "        {\n",
      "            \"close\": 14.8,\n",
      "            \"open\": 14.75,\n",
      "            \"trade_date\": \"20230109\",\n",
      "            \"ts_code\": \"000001.SZ\"\n",
      "        },\n",
      "        {\n",
      "            \"close\": 14.62,\n",
      "            \"open\": 14.5,\n",
      "            \"trade_date\": \"20230106\",\n",
      "            \"ts_code\": \"000001.SZ\"\n",
      "        },\n",
      "        {\n",
      "            \"close\": 14.48,\n",
      "            \"open\": 14.4,\n",
      "            \"trade_date\": \"20230105\",\n",
      "            \"ts_code\": \"000001.SZ\"\n",
      "        },\n",
      "        {\n",
      "            \"close\": 14.32,\n",
      "            \"open\": 13.71,\n",
      "            \"trade_date\": \"20230104\",\n",
      "            \"ts_code\": \"000001.SZ\"\n",
      "        },\n",
      "        {\n",
      "            \"close\": 13.77,\n",
      "            \"open\": 13.2,\n",
      "            \"trade_date\": \"20230103\",\n",
      "            \"ts_code\": \"000001.SZ\"\n",
      "        }\n",
      "    ]\n",
      "}\n"
     ]
    }
   ],
   "source": [
    "import requests\n",
    "import json\n",
    "\n",
    "# API 地址\n",
    "api_url = \"http://127.0.0.1:5001/stock-data\"\n",
    "\n",
    "# 请求体数据\n",
    "data = {\n",
    "    \"stock_codes\": [\"000001.SZ\"],\n",
    "    \"start_date\": \"20230101\",\n",
    "    \"end_date\": \"20230131\",\n",
    "    \"fields\": [\"ts_code\", \"trade_date\", \"open\", \"close\"]\n",
    "}\n",
    "\n",
    "# 设置请求头\n",
    "headers = {\n",
    "    \"Content-Type\": \"application/json\"\n",
    "}\n",
    "\n",
    "# 发送 POST 请求\n",
    "try:\n",
    "    response = requests.post(api_url, data=json.dumps(data), headers=headers)\n",
    "    \n",
    "    # 检查响应状态码\n",
    "    if response.status_code == 200:\n",
    "        # 解析返回的 JSON 数据\n",
    "        result = response.json()\n",
    "        print(\"API 调用成功，返回数据：\")\n",
    "        print(json.dumps(result, indent=4, ensure_ascii=False))\n",
    "    else:\n",
    "        print(f\"API 调用失败，状态码：{response.status_code}\")\n",
    "        print(f\"错误信息：{response.text}\")\n",
    "except Exception as e:\n",
    "    print(f\"请求发生异常：{str(e)}\")"
   ]
  },
  {
   "cell_type": "code",
   "execution_count": null,
   "id": "fd3962ca-10c5-4f7d-8c87-33266da7cfa4",
   "metadata": {},
   "outputs": [],
   "source": []
  }
 ],
 "metadata": {
  "kernelspec": {
   "display_name": "cen",
   "language": "python",
   "name": "cen"
  },
  "language_info": {
   "codemirror_mode": {
    "name": "ipython",
    "version": 3
   },
   "file_extension": ".py",
   "mimetype": "text/x-python",
   "name": "python",
   "nbconvert_exporter": "python",
   "pygments_lexer": "ipython3",
   "version": "3.10.11"
  }
 },
 "nbformat": 4,
 "nbformat_minor": 5
}
