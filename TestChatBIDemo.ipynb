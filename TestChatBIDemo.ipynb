{
 "cells": [
  {
   "cell_type": "code",
   "execution_count": 2,
   "id": "53af64fe-9681-4c40-9352-5c527ea61cae",
   "metadata": {
    "tags": []
   },
   "outputs": [],
   "source": []
  },
  {
   "cell_type": "code",
   "execution_count": null,
   "id": "62896fa3-8621-45d4-b505-e732facc4c58",
   "metadata": {
    "tags": []
   },
   "outputs": [
    {
     "name": "stdout",
     "output_type": "stream",
     "text": [
      "{'query': '查询三个女性用户的存款', 'result': [{'accountNumber': '9876543210', 'accountType': '定期存款', 'annualInterestRate': '1.8%', 'currencyType': 'CNY', 'currentBalance': '32456.78', 'gender': '女', 'lastTransactionDate': '2024-11-01', 'name': '王芳', 'openingDate': '2022-08-22', 'status': '活跃', 'userId': 'U002'}, {'accountNumber': '3210987654', 'accountType': '定期存款', 'annualInterestRate': '1.5%', 'currencyType': 'CNY', 'currentBalance': '45678.90', 'gender': '女', 'lastTransactionDate': '2025-01-12', 'name': '赵丽', 'openingDate': '2023-11-05', 'status': '活跃', 'userId': 'U004'}, {'accountNumber': '7890123456', 'accountType': '定期存款', 'annualInterestRate': '1.2%', 'currencyType': 'CNY', 'currentBalance': '12345.67', 'gender': '女', 'lastTransactionDate': '2023-04-25', 'name': '刘秀', 'openingDate': '2020-09-01', 'status': '活跃', 'userId': 'U006'}], 'status': 'success'}\n"
     ]
    }
   ],
   "source": [
    "import requests\n",
    "\n",
    "url = 'http://localhost:8004/api/query'\n",
    "data = {\n",
    "    \"query\": \"查询三个女性用户 的存款\"\n",
    "}\n",
    "\n",
    "response = requests.post(url, json=data)\n",
    "\n",
    "print(response.json())"
   ]
  },
  {
   "cell_type": "code",
   "execution_count": 8,
   "id": "7b240aa5-b60b-4c09-bf49-37e621522de1",
   "metadata": {
    "tags": []
   },
   "outputs": [
    {
     "data": {
      "text/plain": [
       "{'query': '查询三个女性用户的存款',\n",
       " 'result': [{'accountNumber': '9876543210',\n",
       "   'accountType': '定期存款',\n",
       "   'annualInterestRate': '1.8%',\n",
       "   'currencyType': 'CNY',\n",
       "   'currentBalance': '32456.78',\n",
       "   'gender': '女',\n",
       "   'lastTransactionDate': '2024-11-01',\n",
       "   'name': '王芳',\n",
       "   'openingDate': '2022-08-22',\n",
       "   'status': '活跃',\n",
       "   'userId': 'U002'},\n",
       "  {'accountNumber': '3210987654',\n",
       "   'accountType': '定期存款',\n",
       "   'annualInterestRate': '1.5%',\n",
       "   'currencyType': 'CNY',\n",
       "   'currentBalance': '45678.90',\n",
       "   'gender': '女',\n",
       "   'lastTransactionDate': '2025-01-12',\n",
       "   'name': '赵丽',\n",
       "   'openingDate': '2023-11-05',\n",
       "   'status': '活跃',\n",
       "   'userId': 'U004'},\n",
       "  {'accountNumber': '7890123456',\n",
       "   'accountType': '定期存款',\n",
       "   'annualInterestRate': '1.2%',\n",
       "   'currencyType': 'CNY',\n",
       "   'currentBalance': '12345.67',\n",
       "   'gender': '女',\n",
       "   'lastTransactionDate': '2023-04-25',\n",
       "   'name': '刘秀',\n",
       "   'openingDate': '2020-09-01',\n",
       "   'status': '活跃',\n",
       "   'userId': 'U006'}],\n",
       " 'status': 'success'}"
      ]
     },
     "execution_count": 8,
     "metadata": {},
     "output_type": "execute_result"
    }
   ],
   "source": [
    "response.json()"
   ]
  },
  {
   "cell_type": "code",
   "execution_count": null,
   "id": "dd14ac04-fcea-4481-8183-6ab4356a904d",
   "metadata": {},
   "outputs": [],
   "source": []
  }
 ],
 "metadata": {
  "kernelspec": {
   "display_name": "TongYongAgent",
   "language": "python",
   "name": "python3"
  },
  "language_info": {
   "codemirror_mode": {
    "name": "ipython",
    "version": 3
   },
   "file_extension": ".py",
   "mimetype": "text/x-python",
   "name": "python",
   "nbconvert_exporter": "python",
   "pygments_lexer": "ipython3",
   "version": "3.13.7"
  }
 },
 "nbformat": 4,
 "nbformat_minor": 5
}
