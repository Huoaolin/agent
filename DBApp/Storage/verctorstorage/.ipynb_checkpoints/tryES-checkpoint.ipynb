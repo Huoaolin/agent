{
 "cells": [
  {
   "cell_type": "code",
   "execution_count": 3,
   "id": "3070d9e6-974d-4f65-ac72-b4fd5de96aa9",
   "metadata": {
    "tags": []
   },
   "outputs": [
    {
     "name": "stdout",
     "output_type": "stream",
     "text": [
      "Cluster health:\n",
      "{\n",
      "  \"cluster_name\" : \"docker-cluster\",\n",
      "  \"status\" : \"green\",\n",
      "  \"timed_out\" : false,\n",
      "  \"number_of_nodes\" : 1,\n",
      "  \"number_of_data_nodes\" : 1,\n",
      "  \"active_primary_shards\" : 3,\n",
      "  \"active_shards\" : 3,\n",
      "  \"relocating_shards\" : 0,\n",
      "  \"initializing_shards\" : 0,\n",
      "  \"unassigned_shards\" : 0,\n",
      "  \"unassigned_primary_shards\" : 0,\n",
      "  \"delayed_unassigned_shards\" : 0,\n",
      "  \"number_of_pending_tasks\" : 0,\n",
      "  \"number_of_in_flight_fetch\" : 0,\n",
      "  \"task_max_waiting_in_queue_millis\" : 0,\n",
      "  \"active_shards_percent_as_number\" : 100.0\n",
      "}\n",
      "\n"
     ]
    }
   ],
   "source": [
    "import requests\n",
    "from requests.auth import HTTPBasicAuth\n",
    "\n",
    "# Elasticsearch 集群的 URL 和端口\n",
    "url = \"http://localhost:19200/_cluster/health\"\n",
    "\n",
    "# 用户名和密码\n",
    "username = \"elastic\"\n",
    "password = \"=ebqAuSluLI_9oKimT5D\"\n",
    "\n",
    "\n",
    "# 发送 GET 请求\n",
    "response = requests.get(\n",
    "    url,\n",
    "    auth=HTTPBasicAuth(username, password),\n",
    "    params={\"pretty\": \"\"}  # 添加 pretty 参数以格式化输出\n",
    ")\n",
    "\n",
    "\n",
    "# 检查响应状态码\n",
    "if response.status_code == 200:\n",
    "    print(\"Cluster health:\")\n",
    "    print(response.text)  # 打印返回的 JSON 数据\n",
    "else:\n",
    "    print(f\"Error: {response.status_code}\")\n",
    "    print(response.text)"
   ]
  },
  {
   "cell_type": "code",
   "execution_count": 4,
   "id": "48b6b0f8-2e97-4b8d-a579-c8014ddf5b1b",
   "metadata": {
    "tags": []
   },
   "outputs": [
    {
     "data": {
      "text/plain": [
       "'/qe/data/project/project_cen/project_cen/2025code/牛马系统全模态知识库/DBApp/Storage/verctorstorage'"
      ]
     },
     "execution_count": 4,
     "metadata": {},
     "output_type": "execute_result"
    }
   ],
   "source": [
    "pwd"
   ]
  },
  {
   "cell_type": "code",
   "execution_count": 5,
   "id": "b5050808-3c9f-4909-9d44-73a9ca052715",
   "metadata": {
    "tags": []
   },
   "outputs": [
    {
     "ename": "ImportError",
     "evalue": "attempted relative import with no known parent package",
     "output_type": "error",
     "traceback": [
      "\u001b[0;31m---------------------------------------------------------------------------\u001b[0m",
      "\u001b[0;31mImportError\u001b[0m                               Traceback (most recent call last)",
      "Cell \u001b[0;32mIn[5], line 1\u001b[0m\n\u001b[0;32m----> 1\u001b[0m \u001b[38;5;28;01mfrom\u001b[39;00m \u001b[38;5;21;01mesModule\u001b[39;00m \u001b[38;5;28;01mimport\u001b[39;00m ES_DB_Control, ES_DB_search\n",
      "File \u001b[0;32m/qe/data/project/project_cen/project_cen/2025code/牛马系统全模态知识库/DBApp/Storage/verctorstorage/esModule.py:6\u001b[0m\n\u001b[1;32m      4\u001b[0m \u001b[38;5;28;01mfrom\u001b[39;00m \u001b[38;5;21;01msklearn\u001b[39;00m\u001b[38;5;21;01m.\u001b[39;00m\u001b[38;5;21;01mneighbors\u001b[39;00m \u001b[38;5;28;01mimport\u001b[39;00m KDTree\n\u001b[1;32m      5\u001b[0m \u001b[38;5;28;01mimport\u001b[39;00m \u001b[38;5;21;01mos\u001b[39;00m\n\u001b[0;32m----> 6\u001b[0m \u001b[38;5;28;01mfrom\u001b[39;00m \u001b[38;5;21;01m.\u001b[39;00m\u001b[38;5;21;01m.\u001b[39;00m\u001b[38;5;21;01m.\u001b[39;00m\u001b[38;5;21;01mModelServer\u001b[39;00m\u001b[38;5;21;01m.\u001b[39;00m\u001b[38;5;21;01mEmbeddingServer\u001b[39;00m\u001b[38;5;21;01m.\u001b[39;00m\u001b[38;5;21;01mutils\u001b[39;00m \u001b[38;5;28;01mimport\u001b[39;00m embedding_encode\n\u001b[1;32m      7\u001b[0m \u001b[38;5;28;01mfrom\u001b[39;00m \u001b[38;5;21;01m.\u001b[39;00m\u001b[38;5;21;01m.\u001b[39;00m\u001b[38;5;21;01m.\u001b[39;00m\u001b[38;5;21;01mModelServer\u001b[39;00m\u001b[38;5;21;01m.\u001b[39;00m\u001b[38;5;21;01mReRanker\u001b[39;00m\u001b[38;5;21;01m.\u001b[39;00m\u001b[38;5;21;01mutils\u001b[39;00m \u001b[38;5;28;01mimport\u001b[39;00m rerank_pairs\n\u001b[1;32m      8\u001b[0m \u001b[38;5;28;01mimport\u001b[39;00m \u001b[38;5;21;01mnumpy\u001b[39;00m \u001b[38;5;28;01mas\u001b[39;00m \u001b[38;5;21;01mnp\u001b[39;00m\n",
      "\u001b[0;31mImportError\u001b[0m: attempted relative import with no known parent package"
     ]
    }
   ],
   "source": [
    "from esModule import ES_DB_Control, ES_DB_search"
   ]
  },
  {
   "cell_type": "code",
   "execution_count": null,
   "id": "1735d738-1429-487a-a962-3b28c524556d",
   "metadata": {},
   "outputs": [],
   "source": [
    "# 创建实例，指定用户名和密码\n",
    "es_control = ES_DB_Control(es_url='http://localhost:19200', username='elastic', password='=111111')\n",
    "es_search = ES_DB_search(es_url='http://localhost:19200', username='elastic', password='=111111')\n",
    "\n",
    "# 创建索引\n",
    "es_control.create_index(vector_dims=1024)\n",
    "\n",
    "# 执行搜索\n",
    "results = es_search.full_text_search(db_name='test_db', query_text='example', n=5)\n",
    "print(results)"
   ]
  }
 ],
 "metadata": {
  "kernelspec": {
   "display_name": "cen",
   "language": "python",
   "name": "cen"
  },
  "language_info": {
   "codemirror_mode": {
    "name": "ipython",
    "version": 3
   },
   "file_extension": ".py",
   "mimetype": "text/x-python",
   "name": "python",
   "nbconvert_exporter": "python",
   "pygments_lexer": "ipython3",
   "version": "3.10.11"
  }
 },
 "nbformat": 4,
 "nbformat_minor": 5
}
