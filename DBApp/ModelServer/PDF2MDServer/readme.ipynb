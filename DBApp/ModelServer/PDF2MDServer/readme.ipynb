{
 "cells": [
  {
   "cell_type": "code",
   "execution_count": 1,
   "id": "cdf92726-6d82-46ca-87b6-3e0e73771b52",
   "metadata": {
    "tags": []
   },
   "outputs": [],
   "source": [
    "# 1. 激活指定conda环境，启动ocr等对外服务\n",
    "# 2. 外部调用服务，临时文件保存到Temp下"
   ]
  },
  {
   "cell_type": "markdown",
   "id": "475b5a39-3ae9-4b48-93b2-0fb5d3d92c3a",
   "metadata": {},
   "source": [
    "# 服务：PDF2MD"
   ]
  },
  {
   "cell_type": "code",
   "execution_count": 1,
   "id": "8fcdf4d8-d48d-4c37-819b-2f4825378db7",
   "metadata": {
    "tags": []
   },
   "outputs": [
    {
     "data": {
      "text/plain": [
       "'/qe/data/project/project_cen/project_cen/2025code/知识库/知识库project/FilePrasing/ModelServer'"
      ]
     },
     "execution_count": 1,
     "metadata": {},
     "output_type": "execute_result"
    }
   ],
   "source": [
    "pwd"
   ]
  },
  {
   "cell_type": "code",
   "execution_count": null,
   "id": "d7277a7c-c4ad-4868-8f44-63a873cbe6a7",
   "metadata": {},
   "outputs": [],
   "source": [
    "conda activate MinerU\n",
    "\n",
    "cd /qe/data/project/project_cen/project_cen/2025code/知识库/知识库project/FilePrasing/ModelServer\n",
    "\n",
    "python pdf2markdown_api.py"
   ]
  },
  {
   "cell_type": "code",
   "execution_count": 1,
   "id": "608ae174-1055-4c40-819e-568c184e72d0",
   "metadata": {
    "tags": []
   },
   "outputs": [
    {
     "name": "stdout",
     "output_type": "stream",
     "text": [
      "转换成功，文件已保存\n"
     ]
    }
   ],
   "source": [
    "import requests\n",
    "\n",
    "url = \"http://127.0.0.1:5010/convert_pdf\"\n",
    "file_path = \"UploadTemp/01010_移动xxx.pdf\"\n",
    "\n",
    "# with open(file_path, 'rb') as f:\n",
    "#     response = requests.post(url, files={'file_path': file_path})\n",
    "\n",
    "with open(file_path, 'rb') as f:\n",
    "    response = requests.post(url, files={'file': f})\n",
    "\n",
    "if response.status_code == 200:\n",
    "    print(\"转换成功，文件已保存\")\n",
    "else:\n",
    "    print(f\"转换失败: {response.json()}\")"
   ]
  },
  {
   "cell_type": "code",
   "execution_count": null,
   "id": "fdcc832b-5d8f-47b6-b812-1070043d8a6b",
   "metadata": {},
   "outputs": [],
   "source": []
  },
  {
   "cell_type": "code",
   "execution_count": null,
   "id": "111e4c8e-1d69-4b66-807a-49fe714e6018",
   "metadata": {},
   "outputs": [],
   "source": []
  },
  {
   "cell_type": "code",
   "execution_count": null,
   "id": "ada95d20-4c1a-4735-856d-257b6a4aa7c4",
   "metadata": {},
   "outputs": [],
   "source": []
  },
  {
   "cell_type": "code",
   "execution_count": null,
   "id": "431e8e1f-58e2-4465-bb48-32917cd62e6d",
   "metadata": {},
   "outputs": [],
   "source": []
  },
  {
   "cell_type": "code",
   "execution_count": null,
   "id": "5ca28392-1897-44e0-80da-607bd6afb208",
   "metadata": {},
   "outputs": [],
   "source": []
  }
 ],
 "metadata": {
  "kernelspec": {
   "display_name": "cen",
   "language": "python",
   "name": "cen"
  },
  "language_info": {
   "codemirror_mode": {
    "name": "ipython",
    "version": 3
   },
   "file_extension": ".py",
   "mimetype": "text/x-python",
   "name": "python",
   "nbconvert_exporter": "python",
   "pygments_lexer": "ipython3",
   "version": "3.10.11"
  }
 },
 "nbformat": 4,
 "nbformat_minor": 5
}
