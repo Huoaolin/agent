{
 "cells": [
  {
   "cell_type": "code",
   "execution_count": null,
   "id": "e2fdceda-dbca-4e26-9e43-af84a290d701",
   "metadata": {},
   "outputs": [],
   "source": [
    "################\n",
    "\n",
    "# 1. 知识库系统，对外提供知识库增删改查等功能\n",
    "# 2. 输入文件，处理文件成MarkDown并进一步格式化，存入DB中"
   ]
  }
 ],
 "metadata": {
  "kernelspec": {
   "display_name": "cen",
   "language": "python",
   "name": "cen"
  },
  "language_info": {
   "codemirror_mode": {
    "name": "ipython",
    "version": 3
   },
   "file_extension": ".py",
   "mimetype": "text/x-python",
   "name": "python",
   "nbconvert_exporter": "python",
   "pygments_lexer": "ipython3",
   "version": "3.10.11"
  }
 },
 "nbformat": 4,
 "nbformat_minor": 5
}
